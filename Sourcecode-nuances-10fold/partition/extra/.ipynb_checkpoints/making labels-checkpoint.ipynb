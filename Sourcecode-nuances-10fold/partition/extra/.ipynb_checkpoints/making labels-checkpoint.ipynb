{
 "cells": [
  {
   "cell_type": "code",
   "execution_count": 13,
   "id": "4c4152ca-fe7f-40fd-a576-236c7702d472",
   "metadata": {},
   "outputs": [
    {
     "name": "stdout",
     "output_type": "stream",
     "text": [
      "❌ File not found: parts_train_0.csv\n",
      "❌ File not found: parts_train_1.csv\n",
      "❌ File not found: parts_train_2.csv\n",
      "❌ File not found: parts_train_3.csv\n",
      "❌ File not found: parts_train_4.csv\n",
      "❌ File not found: parts_train_5.csv\n",
      "❌ File not found: parts_train_6.csv\n",
      "❌ File not found: parts_train_7.csv\n",
      "❌ File not found: parts_train_8.csv\n",
      "❌ File not found: parts_train_9.csv\n",
      "❌ File not found: parts_val_0.csv\n",
      "❌ File not found: parts_val_1.csv\n",
      "❌ File not found: parts_val_2.csv\n",
      "❌ File not found: parts_val_3.csv\n",
      "❌ File not found: parts_val_4.csv\n",
      "❌ File not found: parts_val_5.csv\n",
      "❌ File not found: parts_val_6.csv\n",
      "❌ File not found: parts_val_7.csv\n",
      "❌ File not found: parts_val_8.csv\n",
      "❌ File not found: parts_val_9.csv\n",
      "❌ File not found: parts_test_0.csv\n",
      "❌ File not found: parts_test_1.csv\n",
      "❌ File not found: parts_test_2.csv\n",
      "❌ File not found: parts_test_3.csv\n",
      "❌ File not found: parts_test_4.csv\n",
      "❌ File not found: parts_test_5.csv\n",
      "❌ File not found: parts_test_6.csv\n",
      "❌ File not found: parts_test_7.csv\n",
      "❌ File not found: parts_test_8.csv\n",
      "❌ File not found: parts_test_9.csv\n"
     ]
    }
   ],
   "source": [
    "import pandas as pd\n",
    "import os\n",
    "\n",
    "sections = ['train', 'val', 'test']\n",
    "folds = range(10)\n",
    "\n",
    "# Load the source label data\n",
    "labels_new = pd.read_csv('Labels_new.csv')\n",
    "\n",
    "# Set ID as index for quick lookup\n",
    "labels_new = labels_new.drop_duplicates('ID')\n",
    "labels_new.set_index('ID', inplace=True)\n",
    "\n",
    "for section in sections:\n",
    "    for fold in folds:\n",
    "        parts_file = f'parts_{section}.{fold}.csv'\n",
    "        output_file = f'Labels_{section}_{fold}.csv'\n",
    "\n",
    "        if not os.path.exists(parts_file):\n",
    "            print(f\"❌ File not found: {parts_file}\")\n",
    "            continue\n",
    "\n",
    "        parts_df = pd.read_csv(parts_file)\n",
    "        ids = parts_df['ID'].tolist()\n",
    "\n",
    "        missing_ids = [id_ for id_ in ids if id_ not in labels_new.index]\n",
    "\n",
    "        if missing_ids:\n",
    "            print(f\"[{section} - fold {fold}] ⚠️ Missing IDs in Labels_new.csv:\")\n",
    "            for mid in missing_ids:\n",
    "                print(f\"  - {mid}\")\n",
    "        else:\n",
    "            matched_labels = labels_new.loc[ids].reset_index()\n",
    "            matched_labels.to_csv(output_file, index=False)\n",
    "            print(f\"[{section} - fold {fold}] ✅ Created {output_file}\")\n"
   ]
  },
  {
   "cell_type": "code",
   "execution_count": null,
   "id": "a98c1403-3c56-4232-b8b0-34762e9351f1",
   "metadata": {},
   "outputs": [],
   "source": []
  }
 ],
 "metadata": {
  "kernelspec": {
   "display_name": "Python 3 (ipykernel)",
   "language": "python",
   "name": "python3"
  },
  "language_info": {
   "codemirror_mode": {
    "name": "ipython",
    "version": 3
   },
   "file_extension": ".py",
   "mimetype": "text/x-python",
   "name": "python",
   "nbconvert_exporter": "python",
   "pygments_lexer": "ipython3",
   "version": "3.12.0"
  }
 },
 "nbformat": 4,
 "nbformat_minor": 5
}
