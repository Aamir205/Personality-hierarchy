{
 "cells": [
  {
   "cell_type": "code",
   "execution_count": 3,
   "id": "2a009b83-fa0c-4b49-924a-6f63e8e18cd0",
   "metadata": {},
   "outputs": [
    {
     "name": "stdout",
     "output_type": "stream",
     "text": [
      "Saved: Labels_train_0.csv\n",
      "Saved: Labels_train_1.csv\n",
      "Saved: Labels_train_2.csv\n",
      "Saved: Labels_train_3.csv\n",
      "Saved: Labels_train_4.csv\n",
      "Saved: Labels_train_5.csv\n",
      "Saved: Labels_train_6.csv\n",
      "Saved: Labels_train_7.csv\n",
      "Saved: Labels_train_8.csv\n",
      "Saved: Labels_train_9.csv\n",
      "Saved: Labels_val_0.csv\n",
      "Saved: Labels_val_1.csv\n",
      "Saved: Labels_val_2.csv\n",
      "Saved: Labels_val_3.csv\n",
      "Saved: Labels_val_4.csv\n",
      "Saved: Labels_val_5.csv\n",
      "Saved: Labels_val_6.csv\n",
      "Saved: Labels_val_7.csv\n",
      "Saved: Labels_val_8.csv\n",
      "Saved: Labels_val_9.csv\n",
      "Saved: Labels_test_0.csv\n",
      "Saved: Labels_test_1.csv\n",
      "Saved: Labels_test_2.csv\n",
      "Saved: Labels_test_3.csv\n",
      "Saved: Labels_test_4.csv\n",
      "Saved: Labels_test_5.csv\n",
      "Saved: Labels_test_6.csv\n",
      "Saved: Labels_test_7.csv\n",
      "Saved: Labels_test_8.csv\n",
      "Saved: Labels_test_9.csv\n"
     ]
    }
   ],
   "source": [
    "import pandas as pd\n",
    "import os\n",
    "\n",
    "# Load the master labels file and drop duplicates by ID (keep first)\n",
    "labels_df = pd.read_csv(\"Labels_new.csv\")\n",
    "labels_df = labels_df.drop_duplicates(subset=\"ID\", keep=\"first\")\n",
    "\n",
    "# Define splits and folds\n",
    "splits = [\"train\", \"val\", \"test\"]\n",
    "folds = range(10)\n",
    "\n",
    "# Process each combination\n",
    "for split in splits:\n",
    "    for fold in folds:\n",
    "        part_filename = f\"parts_{split}.{fold}.csv\"\n",
    "        output_filename = f\"Labels_{split}_{fold}.csv\"\n",
    "\n",
    "        # Check if parts file exists\n",
    "        if not os.path.exists(part_filename):\n",
    "            print(f\"File not found: {part_filename}, skipping.\")\n",
    "            continue\n",
    "\n",
    "        # Read the parts file\n",
    "        part_df = pd.read_csv(part_filename)\n",
    "\n",
    "        # Filter the labels based on IDs\n",
    "        ids = part_df[\"ID\"].unique()\n",
    "        filtered_labels = labels_df[labels_df[\"ID\"].isin(ids)]\n",
    "\n",
    "        # Save to output file\n",
    "        filtered_labels.to_csv(output_filename, index=False)\n",
    "        print(f\"Saved: {output_filename}\")\n"
   ]
  },
  {
   "cell_type": "code",
   "execution_count": null,
   "id": "29fa4424-e88b-4cbf-86fd-28e01fd2cb6e",
   "metadata": {},
   "outputs": [],
   "source": []
  }
 ],
 "metadata": {
  "kernelspec": {
   "display_name": "Python 3 (ipykernel)",
   "language": "python",
   "name": "python3"
  },
  "language_info": {
   "codemirror_mode": {
    "name": "ipython",
    "version": 3
   },
   "file_extension": ".py",
   "mimetype": "text/x-python",
   "name": "python",
   "nbconvert_exporter": "python",
   "pygments_lexer": "ipython3",
   "version": "3.12.0"
  }
 },
 "nbformat": 4,
 "nbformat_minor": 5
}
