{
 "cells": [
  {
   "cell_type": "code",
   "execution_count": 1,
   "id": "789832ca-a76e-4049-b552-ce207fd2ec93",
   "metadata": {},
   "outputs": [
    {
     "name": "stdout",
     "output_type": "stream",
     "text": [
      "[train - fold 0] ❌ ID columns do NOT match.\n",
      "[train - fold 1] ❌ ID columns do NOT match.\n",
      "[train - fold 2] ❌ ID columns do NOT match.\n",
      "[train - fold 3] ❌ ID columns do NOT match.\n",
      "[train - fold 4] ❌ ID columns do NOT match.\n",
      "[train - fold 5] ❌ ID columns do NOT match.\n",
      "[train - fold 6] ❌ ID columns do NOT match.\n",
      "[train - fold 7] ❌ ID columns do NOT match.\n",
      "[train - fold 8] ❌ ID columns do NOT match.\n",
      "[train - fold 9] ❌ ID columns do NOT match.\n",
      "[val - fold 0] ❌ ID columns do NOT match.\n",
      "[val - fold 1] ❌ ID columns do NOT match.\n",
      "[val - fold 2] ❌ ID columns do NOT match.\n",
      "[val - fold 3] ❌ ID columns do NOT match.\n",
      "[val - fold 4] ❌ ID columns do NOT match.\n",
      "[val - fold 5] ❌ ID columns do NOT match.\n",
      "[val - fold 6] ❌ ID columns do NOT match.\n",
      "[val - fold 7] ❌ ID columns do NOT match.\n",
      "[val - fold 8] ❌ ID columns do NOT match.\n",
      "[val - fold 9] ❌ ID columns do NOT match.\n",
      "[test - fold 0] ❌ ID columns do NOT match.\n",
      "[test - fold 1] ❌ ID columns do NOT match.\n",
      "[test - fold 2] ❌ ID columns do NOT match.\n",
      "[test - fold 3] ❌ ID columns do NOT match.\n",
      "[test - fold 4] ❌ ID columns do NOT match.\n",
      "[test - fold 5] ❌ ID columns do NOT match.\n",
      "[test - fold 6] ❌ ID columns do NOT match.\n",
      "[test - fold 7] ❌ ID columns do NOT match.\n",
      "[test - fold 8] ❌ ID columns do NOT match.\n",
      "[test - fold 9] ❌ ID columns do NOT match.\n"
     ]
    }
   ],
   "source": [
    "import pandas as pd\n",
    "import os\n",
    "\n",
    "sections = ['train', 'val', 'test']\n",
    "base_dir = '.'  # Change this if your CSV files are in a different directory\n",
    "\n",
    "for section in sections:\n",
    "    for fold in range(10):\n",
    "        labels_filename = os.path.join(base_dir, f'Labels_{section}_{fold}.csv')\n",
    "        parts_filename = os.path.join(base_dir, f'parts_{section}.{fold}.csv')\n",
    "\n",
    "        if not os.path.exists(labels_filename):\n",
    "            print(f\"Missing file: {labels_filename}\")\n",
    "            continue\n",
    "        if not os.path.exists(parts_filename):\n",
    "            print(f\"Missing file: {parts_filename}\")\n",
    "            continue\n",
    "\n",
    "        try:\n",
    "            df_labels = pd.read_csv(labels_filename)\n",
    "            df_parts = pd.read_csv(parts_filename)\n",
    "\n",
    "            # Check if first column name is 'ID'\n",
    "            label_id_check = df_labels.columns[0] == 'ID'\n",
    "            parts_id_check = df_parts.columns[0] == 'ID'\n",
    "\n",
    "            if not label_id_check or not parts_id_check:\n",
    "                print(f\"[{section} - fold {fold}] ❌ First column not 'ID' in one of the files.\")\n",
    "                continue\n",
    "\n",
    "            # Check if ID columns match\n",
    "            ids_match = df_labels['ID'].tolist() == df_parts['ID'].tolist()\n",
    "\n",
    "            if ids_match:\n",
    "                print(f\"[{section} - fold {fold}] ✅ ID columns match.\")\n",
    "            else:\n",
    "                print(f\"[{section} - fold {fold}] ❌ ID columns do NOT match.\")\n",
    "\n",
    "        except Exception as e:\n",
    "            print(f\"[{section} - fold {fold}] ❌ Error processing files: {e}\")\n"
   ]
  },
  {
   "cell_type": "code",
   "execution_count": null,
   "id": "5f5df0f8-0cd9-46c5-87bc-12e716c44f9e",
   "metadata": {},
   "outputs": [],
   "source": []
  }
 ],
 "metadata": {
  "kernelspec": {
   "display_name": "Python 3 (ipykernel)",
   "language": "python",
   "name": "python3"
  },
  "language_info": {
   "codemirror_mode": {
    "name": "ipython",
    "version": 3
   },
   "file_extension": ".py",
   "mimetype": "text/x-python",
   "name": "python",
   "nbconvert_exporter": "python",
   "pygments_lexer": "ipython3",
   "version": "3.12.0"
  }
 },
 "nbformat": 4,
 "nbformat_minor": 5
}
