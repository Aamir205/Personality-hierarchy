{
 "cells": [
  {
   "cell_type": "code",
   "execution_count": 1,
   "id": "789832ca-a76e-4049-b552-ce207fd2ec93",
   "metadata": {},
   "outputs": [
    {
     "name": "stdout",
     "output_type": "stream",
     "text": [
      "Missing file: .\\parts_train_0.csv\n",
      "Missing file: .\\parts_train_1.csv\n",
      "Missing file: .\\parts_train_2.csv\n",
      "Missing file: .\\parts_train_3.csv\n",
      "Missing file: .\\parts_train_4.csv\n",
      "Missing file: .\\parts_train_5.csv\n",
      "Missing file: .\\parts_train_6.csv\n",
      "Missing file: .\\parts_train_7.csv\n",
      "Missing file: .\\parts_train_8.csv\n",
      "Missing file: .\\parts_train_9.csv\n",
      "Missing file: .\\parts_val_0.csv\n",
      "Missing file: .\\parts_val_1.csv\n",
      "Missing file: .\\parts_val_2.csv\n",
      "Missing file: .\\parts_val_3.csv\n",
      "Missing file: .\\parts_val_4.csv\n",
      "Missing file: .\\parts_val_5.csv\n",
      "Missing file: .\\parts_val_6.csv\n",
      "Missing file: .\\parts_val_7.csv\n",
      "Missing file: .\\parts_val_8.csv\n",
      "Missing file: .\\parts_val_9.csv\n",
      "Missing file: .\\parts_test_0.csv\n",
      "Missing file: .\\parts_test_1.csv\n",
      "Missing file: .\\parts_test_2.csv\n",
      "Missing file: .\\parts_test_3.csv\n",
      "Missing file: .\\parts_test_4.csv\n",
      "Missing file: .\\parts_test_5.csv\n",
      "Missing file: .\\parts_test_6.csv\n",
      "Missing file: .\\parts_test_7.csv\n",
      "Missing file: .\\parts_test_8.csv\n",
      "Missing file: .\\parts_test_9.csv\n"
     ]
    }
   ],
   "source": [
    "import pandas as pd\n",
    "import os\n",
    "\n",
    "sections = ['train', 'val', 'test']\n",
    "base_dir = '.'  # Change this if your CSV files are in a different directory\n",
    "\n",
    "for section in sections:\n",
    "    for fold in range(10):\n",
    "        labels_filename = os.path.join(base_dir, f'Labels_{section}_{fold}.csv')\n",
    "        parts_filename = os.path.join(base_dir, f'parts_{section}.{fold}.csv')\n",
    "\n",
    "        if not os.path.exists(labels_filename):\n",
    "            print(f\"Missing file: {labels_filename}\")\n",
    "            continue\n",
    "        if not os.path.exists(parts_filename):\n",
    "            print(f\"Missing file: {parts_filename}\")\n",
    "            continue\n",
    "\n",
    "        try:\n",
    "            df_labels = pd.read_csv(labels_filename)\n",
    "            df_parts = pd.read_csv(parts_filename)\n",
    "\n",
    "            # Check if first column name is 'ID'\n",
    "            label_id_check = df_labels.columns[0] == 'ID'\n",
    "            parts_id_check = df_parts.columns[0] == 'ID'\n",
    "\n",
    "            if not label_id_check or not parts_id_check:\n",
    "                print(f\"[{section} - fold {fold}] ❌ First column not 'ID' in one of the files.\")\n",
    "                continue\n",
    "\n",
    "            # Check if ID columns match\n",
    "            ids_match = df_labels['ID'].tolist() == df_parts['ID'].tolist()\n",
    "\n",
    "            if ids_match:\n",
    "                print(f\"[{section} - fold {fold}] ✅ ID columns match.\")\n",
    "            else:\n",
    "                print(f\"[{section} - fold {fold}] ❌ ID columns do NOT match.\")\n",
    "\n",
    "        except Exception as e:\n",
    "            print(f\"[{section} - fold {fold}] ❌ Error processing files: {e}\")\n"
   ]
  },
  {
   "cell_type": "code",
   "execution_count": null,
   "id": "5f5df0f8-0cd9-46c5-87bc-12e716c44f9e",
   "metadata": {},
   "outputs": [],
   "source": []
  }
 ],
 "metadata": {
  "kernelspec": {
   "display_name": "Python 3 (ipykernel)",
   "language": "python",
   "name": "python3"
  },
  "language_info": {
   "codemirror_mode": {
    "name": "ipython",
    "version": 3
   },
   "file_extension": ".py",
   "mimetype": "text/x-python",
   "name": "python",
   "nbconvert_exporter": "python",
   "pygments_lexer": "ipython3",
   "version": "3.12.0"
  }
 },
 "nbformat": 4,
 "nbformat_minor": 5
}
