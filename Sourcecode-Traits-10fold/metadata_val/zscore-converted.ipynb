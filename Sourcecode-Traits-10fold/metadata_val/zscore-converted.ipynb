{
 "cells": [
  {
   "cell_type": "code",
   "execution_count": 3,
   "id": "723c9823-14a6-4862-afae-d8bfcb6cf362",
   "metadata": {},
   "outputs": [
    {
     "name": "stdout",
     "output_type": "stream",
     "text": [
      "Z-scored data saved to: zscored_traits.csv\n"
     ]
    }
   ],
   "source": [
    "import pandas as pd\n",
    "\n",
    "def compute_z_scores(input_csv, output_csv):\n",
    "    # Load the CSV file\n",
    "    df = pd.read_csv(input_csv)\n",
    "    \n",
    "    # List of trait columns\n",
    "    trait_cols = [\n",
    "        \"BFI_Extraversion\",\n",
    "        \"BFI_Agreeableness\",\n",
    "        \"BFI_Conscientiousness\",\n",
    "        \"BFI_NegativeEmotionality\",\n",
    "        \"BFI_OpenMindedness\"\n",
    "    ]\n",
    "    \n",
    "    # Check if all required columns are present\n",
    "    for col in trait_cols + [\"ID\"]:\n",
    "        if col not in df.columns:\n",
    "            raise ValueError(f\"Missing column: {col}\")\n",
    "    \n",
    "    # Compute z-scores\n",
    "    z_scores = df[trait_cols].apply(lambda x: (x - x.mean()) / x.std())\n",
    "    \n",
    "    # Combine ID and z-scored traits\n",
    "    output_df = pd.concat([df[[\"ID\"]], z_scores], axis=1)\n",
    "    \n",
    "    # Save to CSV\n",
    "    output_df.to_csv(output_csv, index=False)\n",
    "    print(f\"Z-scored data saved to: {output_csv}\")\n",
    "\n",
    "# Example usage\n",
    "if __name__ == \"__main__\":\n",
    "    compute_z_scores(\"Labels_new.csv\", \"zscored_traits.csv\")\n"
   ]
  },
  {
   "cell_type": "code",
   "execution_count": null,
   "id": "216e6241-1a8d-4de0-9163-4fc14992217a",
   "metadata": {},
   "outputs": [],
   "source": []
  }
 ],
 "metadata": {
  "kernelspec": {
   "display_name": "Python 3 (ipykernel)",
   "language": "python",
   "name": "python3"
  },
  "language_info": {
   "codemirror_mode": {
    "name": "ipython",
    "version": 3
   },
   "file_extension": ".py",
   "mimetype": "text/x-python",
   "name": "python",
   "nbconvert_exporter": "python",
   "pygments_lexer": "ipython3",
   "version": "3.12.0"
  }
 },
 "nbformat": 4,
 "nbformat_minor": 5
}
